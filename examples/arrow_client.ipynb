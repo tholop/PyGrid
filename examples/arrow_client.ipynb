{
 "cells": [
  {
   "source": [
    "# Node"
   ],
   "cell_type": "markdown",
   "metadata": {}
  },
  {
   "cell_type": "code",
   "execution_count": null,
   "metadata": {},
   "outputs": [],
   "source": [
    "import time\n",
    "import torch as th\n",
    "th.set_num_threads(1)\n",
    "import syft as sy\n",
    "from syft.grid.clients.data_centric_fl_client import DataCentricFLClient\n",
    "hook = sy.TorchHook(th)\n",
    "alice = DataCentricFLClient(hook, \"ws://localhost:7600\")\n",
    "bob = DataCentricFLClient(hook, \"ws://localhost:7601\")\n",
    "my_grid = sy.PrivateGridNetwork(alice,bob)\n",
    "payload = 100 # in Mo\n",
    "t = th.rand(1, int(payload * 10**6 / 4)) # 4 because torch float32 are encded over 4 bytes\n",
    "timer = time.time()\n",
    "t.send(alice)\n",
    "delay = time.time() - timer\n",
    "print('bandwidth', payload/delay)"
   ]
  }
 ],
 "metadata": {
  "kernelspec": {
   "display_name": "Python 3",
   "language": "python",
   "name": "python3"
  },
  "language_info": {
   "codemirror_mode": {
    "name": "ipython",
    "version": 3
   },
   "file_extension": ".py",
   "mimetype": "text/x-python",
   "name": "python",
   "nbconvert_exporter": "python",
   "pygments_lexer": "ipython3",
   "version": "3.8.5"
  }
 },
 "nbformat": 4,
 "nbformat_minor": 4
}