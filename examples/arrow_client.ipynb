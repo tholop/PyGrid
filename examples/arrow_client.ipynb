{
 "cells": [
  {
   "source": [
    "# Node"
   ],
   "cell_type": "markdown",
   "metadata": {}
  },
  {
   "cell_type": "code",
   "execution_count": 13,
   "metadata": {},
   "outputs": [
    {
     "output_type": "stream",
     "name": "stderr",
     "text": [
      "WARNING:root:Torch was already hooked... skipping hooking process\n"
     ]
    }
   ],
   "source": [
    "import time\n",
    "import torch as th\n",
    "th.set_num_threads(1)\n",
    "import syft as sy\n",
    "from syft.grid.clients.data_centric_fl_client import DataCentricFLClient\n",
    "hook = sy.TorchHook(th)\n",
    "alice = DataCentricFLClient(hook, \"ws://localhost:7600\")\n",
    "bob = DataCentricFLClient(hook, \"ws://localhost:7601\")\n",
    "my_grid = sy.PrivateGridNetwork(alice,bob)"
   ]
  },
  {
   "cell_type": "code",
   "execution_count": 14,
   "metadata": {},
   "outputs": [],
   "source": [
    "import argparse\n",
    "import ast\n",
    "import threading\n",
    "import time\n",
    "\n",
    "import pyarrow\n",
    "import pyarrow.flight\n",
    "import pyarrow.csv as csv"
   ]
  },
  {
   "cell_type": "code",
   "execution_count": 15,
   "metadata": {},
   "outputs": [],
   "source": [
    "def list_flights(args, client, connection_args={}):\n",
    "    print('Flights\\n=======')\n",
    "    for flight in client.list_flights():\n",
    "        descriptor = flight.descriptor\n",
    "        if descriptor.descriptor_type == pyarrow.flight.DescriptorType.PATH:\n",
    "            print(\"Path:\", descriptor.path)\n",
    "        elif descriptor.descriptor_type == pyarrow.flight.DescriptorType.CMD:\n",
    "            print(\"Command:\", descriptor.command)\n",
    "        else:\n",
    "            print(\"Unknown descriptor type\")\n",
    "\n",
    "        print(\"Total records:\", end=\" \")\n",
    "        if flight.total_records >= 0:\n",
    "            print(flight.total_records)\n",
    "        else:\n",
    "            print(\"Unknown\")\n",
    "\n",
    "        print(\"Total bytes:\", end=\" \")\n",
    "        if flight.total_bytes >= 0:\n",
    "            print(flight.total_bytes)\n",
    "        else:\n",
    "            print(\"Unknown\")\n",
    "\n",
    "        print(\"Number of endpoints:\", len(flight.endpoints))\n",
    "        print(\"Schema:\")\n",
    "        print(flight.schema)\n",
    "        print('---')\n",
    "\n",
    "    print('\\nActions\\n=======')\n",
    "    for action in client.list_actions():\n",
    "        print(\"Type:\", action.type)\n",
    "        print(\"Description:\", action.description)\n",
    "        print('---')\n",
    "\n",
    "\n",
    "def do_action(args, client, connection_args={}):\n",
    "    try:\n",
    "        buf = pyarrow.allocate_buffer(0)\n",
    "        action = pyarrow.flight.Action(args.action_type, buf)\n",
    "        print('Running action', args.action_type)\n",
    "        for result in client.do_action(action):\n",
    "            print(\"Got result\", result.body.to_pybytes())\n",
    "    except pyarrow.lib.ArrowIOError as e:\n",
    "        print(\"Error calling action:\", e)\n",
    "\n",
    "\n",
    "def push_data(args, client, connection_args={}):\n",
    "    print('File Name:', args.file)\n",
    "    my_table = csv.read_csv(args.file)\n",
    "    print('Table rows=', str(len(my_table)))\n",
    "    df = my_table.to_pandas()\n",
    "    print(df.head())\n",
    "    writer, _ = client.do_put(\n",
    "        pyarrow.flight.FlightDescriptor.for_path(args.file), my_table.schema)\n",
    "    writer.write_table(my_table)\n",
    "    writer.close()\n",
    "\n",
    "\n",
    "def get_flight(args, client, connection_args={}):\n",
    "    if args.path:\n",
    "        descriptor = pyarrow.flight.FlightDescriptor.for_path(*args.path)\n",
    "    else:\n",
    "        descriptor = pyarrow.flight.FlightDescriptor.for_command(args.command)\n",
    "\n",
    "    info = client.get_flight_info(descriptor)\n",
    "    for endpoint in info.endpoints:\n",
    "        print('Ticket:', endpoint.ticket)\n",
    "        for location in endpoint.locations:\n",
    "            print(location)\n",
    "            get_client = pyarrow.flight.FlightClient(location,\n",
    "                                                     **connection_args)\n",
    "            reader = get_client.do_get(endpoint.ticket)\n",
    "            df = reader.read_pandas()\n",
    "            print(df)"
   ]
  },
  {
   "cell_type": "code",
   "execution_count": 75,
   "metadata": {},
   "outputs": [
    {
     "output_type": "stream",
     "name": "stdout",
     "text": [
      "<pyarrow._flight.FlightClient object at 0x7f826723f7b0>\n"
     ]
    }
   ],
   "source": [
    "scheme = \"grpc+tcp\"\n",
    "host=\"localhost\"\n",
    "port=\"7604\"\n",
    " \n",
    "client = pyarrow.flight.FlightClient(f\"{scheme}://{host}:{port}\")\n",
    "print(client)"
   ]
  },
  {
   "cell_type": "code",
   "execution_count": 76,
   "metadata": {},
   "outputs": [
    {
     "output_type": "stream",
     "name": "stdout",
     "text": [
      "<pyarrow._flight.Action object at 0x7f82577c0cf0>\n<pyarrow._flight.FlightCallOptions object at 0x7f82670629c0>\n"
     ]
    },
    {
     "output_type": "execute_result",
     "data": {
      "text/plain": [
       "[]"
      ]
     },
     "metadata": {},
     "execution_count": 76
    }
   ],
   "source": [
    "action = pyarrow.flight.Action(\"healthcheck\", b\"\")\n",
    "print(action)\n",
    "options = pyarrow.flight.FlightCallOptions(timeout=1)\n",
    "print(options)\n",
    "list(client.do_action(action, options=options))"
   ]
  },
  {
   "cell_type": "code",
   "execution_count": 77,
   "metadata": {},
   "outputs": [
    {
     "output_type": "stream",
     "name": "stdout",
     "text": [
      "Flights\n=======\n\nActions\n=======\nType: clear\nDescription: Clear the stored flights.\n---\nType: shutdown\nDescription: Shut down this server.\n---\n"
     ]
    }
   ],
   "source": [
    "list_flights({}, client)"
   ]
  },
  {
   "cell_type": "code",
   "execution_count": 122,
   "metadata": {},
   "outputs": [],
   "source": [
    "import pandas as pd\n",
    "import numpy as np\n",
    "import pyarrow as pa"
   ]
  },
  {
   "cell_type": "code",
   "execution_count": 123,
   "metadata": {},
   "outputs": [
    {
     "output_type": "stream",
     "name": "stdout",
     "text": [
      "[[207 130 118 ... 104  50  89]\n [ 78  64 231 ...  18 183 212]\n [237 222 209 ...  23 134 115]\n ...\n [102 217 159 ... 149 109 230]\n [158  47 169 ... 128  11  72]\n [105 201  41 ... 126  95 187]]\n100000000\n"
     ]
    }
   ],
   "source": [
    "n = np.random.randint(255, size=(100_000, 1_000), dtype=np.uint8)\n",
    "print(n)\n",
    "print(n.nbytes)"
   ]
  },
  {
   "cell_type": "code",
   "execution_count": 124,
   "metadata": {},
   "outputs": [
    {
     "output_type": "stream",
     "name": "stdout",
     "text": [
      "   0    1    2    3    4    5    6    7    8    9    ...  990  991  992  993  \\\n0  207  130  118  105   41   73   35  132   21  185  ...  161  236  167  143   \n1   78   64  231   13  171   70  237   37  141   42  ...  178  199   40  219   \n2  237  222  209  138  247  204   83  128  215  124  ...   58   61  122   86   \n3  225   38  138  140    4  252  163  132  220  181  ...  203  225  136  191   \n4   53  208    5  245  155  149  164   77    8  216  ...   74   94  224   51   \n\n   994  995  996  997  998  999  \n0  230  135  227  104   50   89  \n1   37  146    6   18  183  212  \n2  173  151  159   23  134  115  \n3   10  219   38  252  186   21  \n4  130    8  241  195   99   20  \n\n[5 rows x 1000 columns]\n[[207 130 118 ... 104  50  89]\n [ 78  64 231 ...  18 183 212]\n [237 222 209 ...  23 134 115]\n ...\n [102 217 159 ... 149 109 230]\n [158  47 169 ... 128  11  72]\n [105 201  41 ... 126  95 187]]\n"
     ]
    }
   ],
   "source": [
    "d = pd.DataFrame(n)\n",
    "print(d.head())\n",
    "print(np.asarray(d))"
   ]
  },
  {
   "cell_type": "code",
   "execution_count": 125,
   "metadata": {},
   "outputs": [],
   "source": [
    "# a = pyarrow.array(n)\n",
    "# a"
   ]
  },
  {
   "cell_type": "code",
   "execution_count": 126,
   "metadata": {},
   "outputs": [
    {
     "output_type": "stream",
     "name": "stdout",
     "text": [
      "100000000\n"
     ]
    }
   ],
   "source": [
    "t = pyarrow.Table.from_pandas(d)\n",
    "# t = pyarrow.Tensor.from_numpy(n)\n",
    "# print(t)\n",
    "print(t.nbytes)"
   ]
  },
  {
   "cell_type": "code",
   "execution_count": 127,
   "metadata": {},
   "outputs": [
    {
     "output_type": "stream",
     "name": "stdout",
     "text": [
      "<pyarrow._flight.FlightStreamWriter object at 0x7f82658421e0>\n"
     ]
    }
   ],
   "source": [
    "writer, _ = client.do_put(\n",
    "        pyarrow.flight.FlightDescriptor.for_path(\"/hee\"), t.schema)\n",
    "\n",
    "# writer, _ = client.do_put(\n",
    "#         pyarrow.flight.FlightDescriptor.for_path(\"/hee\"), schema=pa.schema([(\"tensor\", pa.uint8())]))\n",
    "\n",
    "print(writer)"
   ]
  },
  {
   "cell_type": "code",
   "execution_count": 128,
   "metadata": {},
   "outputs": [],
   "source": [
    "writer.write_table(t)\n",
    "writer.close()"
   ]
  },
  {
   "cell_type": "code",
   "execution_count": 129,
   "metadata": {},
   "outputs": [],
   "source": [
    "writer_2, _ = client.do_put(\n",
    "        pyarrow.flight.FlightDescriptor.for_command(\"feed_crypto_store_fssb\"), t.schema)"
   ]
  },
  {
   "cell_type": "code",
   "execution_count": 130,
   "metadata": {},
   "outputs": [],
   "source": [
    "writer_2.write_table(t)\n",
    "writer_2.close()"
   ]
  },
  {
   "cell_type": "code",
   "execution_count": 133,
   "metadata": {},
   "outputs": [
    {
     "output_type": "error",
     "ename": "TypeError",
     "evalue": "Expected pandas DataFrame or list of arrays",
     "traceback": [
      "\u001b[0;31m---------------------------------------------------------------------------\u001b[0m",
      "\u001b[0;31mTypeError\u001b[0m                                 Traceback (most recent call last)",
      "\u001b[0;32m<ipython-input-133-2520681a6d54>\u001b[0m in \u001b[0;36m<module>\u001b[0;34m\u001b[0m\n\u001b[1;32m      1\u001b[0m writer_2, _ = client.do_put(\n\u001b[1;32m      2\u001b[0m         pyarrow.flight.FlightDescriptor.for_command(\"feed_crypto_store_fssb\"), t.schema)\n\u001b[0;32m----> 3\u001b[0;31m \u001b[0mwriter_2\u001b[0m\u001b[0;34m.\u001b[0m\u001b[0mwrite_batch\u001b[0m\u001b[0;34m(\u001b[0m\u001b[0mpa\u001b[0m\u001b[0;34m.\u001b[0m\u001b[0mrecord_batch\u001b[0m\u001b[0;34m(\u001b[0m\u001b[0mpa\u001b[0m\u001b[0;34m.\u001b[0m\u001b[0mserialize\u001b[0m\u001b[0;34m(\u001b[0m\u001b[0mn\u001b[0m\u001b[0;34m)\u001b[0m\u001b[0;34m.\u001b[0m\u001b[0mto_buffer\u001b[0m\u001b[0;34m(\u001b[0m\u001b[0;34m)\u001b[0m\u001b[0;34m)\u001b[0m\u001b[0;34m)\u001b[0m\u001b[0;34m\u001b[0m\u001b[0;34m\u001b[0m\u001b[0m\n\u001b[0m\u001b[1;32m      4\u001b[0m \u001b[0mwriter_2\u001b[0m\u001b[0;34m.\u001b[0m\u001b[0mclose\u001b[0m\u001b[0;34m(\u001b[0m\u001b[0;34m)\u001b[0m\u001b[0;34m\u001b[0m\u001b[0;34m\u001b[0m\u001b[0m\n",
      "\u001b[0;32m~/.miniconda/envs/ariann/lib/python3.8/site-packages/pyarrow/table.pxi\u001b[0m in \u001b[0;36mpyarrow.lib.record_batch\u001b[0;34m()\u001b[0m\n",
      "\u001b[0;31mTypeError\u001b[0m: Expected pandas DataFrame or list of arrays"
     ]
    }
   ],
   "source": [
    "writer_2, _ = client.do_put(\n",
    "        pyarrow.flight.FlightDescriptor.for_command(\"feed_crypto_store_fssb\"), t.schema)\n",
    "# writer_2.write_batch(pa.record_batch(pa.serialize(n).to_buffer())\n",
    "writer_2.close()"
   ]
  }
 ],
 "metadata": {
  "kernelspec": {
   "display_name": "Python 3.8.5 64-bit ('ariann': conda)",
   "language": "python",
   "name": "python38564bitariannconda407a02cfdfe64cc2a67215b7d5297e73"
  },
  "language_info": {
   "codemirror_mode": {
    "name": "ipython",
    "version": 3
   },
   "file_extension": ".py",
   "mimetype": "text/x-python",
   "name": "python",
   "nbconvert_exporter": "python",
   "pygments_lexer": "ipython3",
   "version": "3.8.5-final"
  }
 },
 "nbformat": 4,
 "nbformat_minor": 4
}