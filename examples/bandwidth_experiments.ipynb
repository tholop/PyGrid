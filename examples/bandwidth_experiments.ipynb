{
 "cells": [
  {
   "source": [
    "# Node"
   ],
   "cell_type": "markdown",
   "metadata": {}
  },
  {
   "cell_type": "code",
   "execution_count": 16,
   "metadata": {},
   "outputs": [
    {
     "output_type": "stream",
     "name": "stdout",
     "text": [
      "Package                    Version             Location\n-------------------------- ------------------- ------------------------------------\naioice                     0.6.18\naiortc                     0.9.28\naiounittest                1.4.0\nalembic                    1.4.2\nansiwrap                   0.8.4\nappdirs                    1.4.4\nasync-generator            1.10\nattrs                      19.3.0\naurora-data-api            0.2.0\nav                         8.0.2\nbackcall                   0.2.0\nbcrypt                     3.2.0\nblack                      20.8b1\nbleach                     3.1.5\nboto3                      1.15.5\nbotocore                   1.18.5\ncertifi                    2020.6.20\ncffi                       1.14.1\ncfgv                       3.2.0\nchardet                    3.0.4\nclick                      7.1.2\ncolorama                   0.4.3\ncoverage                   4.5.4\ncrc32c                     2.0.1\ncryptography               3.0\ndecorator                  4.4.2\ndefusedxml                 0.6.0\ndill                       0.3.2\ndistlib                    0.3.1\ndocformatter               1.3.1\ndocutils                   0.16\nentrypoints                0.3\nfilelock                   3.0.12\nflake8                     3.8.3\nflake8-comprehensions      3.2.3\nFlask                      1.1.2\nFlask-Cors                 3.0.8\nFlask-Executor             0.9.3\nflask-lambda-python36      0.1.0\nFlask-Login                0.5.0\nFlask-Migrate              2.5.3\nFlask-SocketIO             4.2.1\nFlask-Sockets              0.2.1\nFlask-SQLAlchemy           2.4.4\ngevent                     20.6.2\ngevent-websocket           0.10.1\ngreenlet                   0.4.16\ngunicorn                   20.0.4\nidentify                   1.4.25\nidna                       2.8\nimportlib-resources        1.5.0\nipykernel                  5.3.4\nipython                    7.17.0\nipython-genutils           0.2.0\nipywidgets                 7.5.1\nisort                      5.3.2\nitsdangerous               1.1.0\njedi                       0.17.2\njeepney                    0.4.3\nJinja2                     2.11.2\njmespath                   0.10.0\njsonschema                 3.2.0\njupyter                    1.0.0\njupyter-client             6.1.6\njupyter-console            6.1.0\njupyter-core               4.6.3\nkeyring                    21.2.1\nlz4                        3.0.2\nMako                       1.1.3\nMarkupSafe                 1.1.1\nmaturin                    0.8.3\nmccabe                     0.6.1\nmistune                    0.8.4\nmore-itertools             8.4.0\nmsgpack                    1.0.0\nmsgpack-numpy              0.4.7.1\nmypy-extensions            0.4.3\nnbclient                   0.4.1\nnbconvert                  5.6.1\nnbformat                   5.0.7\nnest-asyncio               1.4.0\nnetifaces                  0.10.9\nnodeenv                    1.4.0\nnotebook                   5.7.8\nnumpy                      1.18.5\nopenmined.gridnode         0.1.0\nopenmined.threepio         0.2.0\npackaging                  20.4\npandas                     1.1.4\npandocfilters              1.4.2\npapermill                  2.0.0\nparso                      0.7.1\npathspec                   0.8.1\npexpect                    4.8.0\nphe                        1.4.0\npickleshare                0.7.5\nPillow                     7.2.0\npip                        20.2.4\npkginfo                    1.5.0.1\npluggy                     0.13.1\npre-commit                 2.6.0\nprometheus-client          0.8.0\nprompt-toolkit             3.0.5\nprotobuf                   3.12.4\npsutil                     5.7.0\npsycopg2-binary            2.8.5\nptyprocess                 0.6.0\npy                         1.9.0\npyarrow                    2.0.0\npycodestyle                2.6.0\npycparser                  2.20\npyee                       7.0.2\npyflakes                   2.2.0\nPygments                   2.6.1\nPyJWT                      1.7.1\npylibsrtp                  0.6.6\npyparsing                  2.4.7\npyrsistent                 0.16.0\npytest                     5.4.3\npython-dateutil            2.8.1\npython-editor              1.0.4\npython-engineio            3.13.1\npython-socketio            4.6.0\npytz                       2020.4\nPyYAML                     5.3.1\npyzmq                      19.0.2\nqtconsole                  4.7.5\nQtPy                       1.9.0\nreadme-renderer            26.0\nredis                      3.5.3\nregex                      2020.11.13\nrequests                   2.22.0\nrequests-toolbelt          0.9.1\nRestrictedPython           5.0\nrfc3986                    1.4.0\ns3transfer                 0.3.3\nscipy                      1.4.1\nSecretStorage              3.1.2\nSend2Trash                 1.5.0\nsetuptools                 50.3.1.post20201107\nshaloop                    0.2.1a11\nsix                        1.15.0\nSQLAlchemy                 1.3.18\nsqlalchemy-aurora-data-api 0.2.0\nsqlalchemy-mixins          1.2.1\nSQLAlchemy-Utils           0.36.8\nsycret                     0.1.1\nsyft                       0.2.9               /home/pierre/Documents/AriaNN/PySyft\nsyft-proto                 0.5.3\ntblib                      1.6.0\ntenacity                   6.2.0\nterminado                  0.8.3\ntestpath                   0.4.4\ntextwrap3                  0.9.2\ntoml                       0.10.2\ntorch                      1.4.0\ntorchvision                0.5.0\ntornado                    4.5.3\ntqdm                       4.48.2\ntraitlets                  4.3.3\ntyped-ast                  1.4.1\ntyping-extensions          3.7.4.3\nuntokenize                 0.1.1\nurllib3                    1.25.10\nvirtualenv                 20.0.30\nwcwidth                    0.2.5\nwebencodings               0.5.1\nwebsocket-client           0.57.0\nwebsockets                 8.1\nWerkzeug                   1.0.1\nwheel                      0.35.1\nwidgetsnbextension         3.5.1\nwrapt                      1.12.1\nwsaccel                    0.6.2\nzope.event                 4.4\nzope.interface             5.1.0\n"
     ]
    }
   ],
   "source": [
    "!pip list"
   ]
  },
  {
   "cell_type": "code",
   "execution_count": 5,
   "metadata": {},
   "outputs": [
    {
     "output_type": "stream",
     "name": "stderr",
     "text": [
      "WARNING:root:Torch was already hooked... skipping hooking process\n",
      "bandwidth 25.642299934877315\n"
     ]
    }
   ],
   "source": [
    "import time\n",
    "import torch as th\n",
    "th.set_num_threads(1)\n",
    "import syft as sy\n",
    "from syft.grid.clients.data_centric_fl_client import DataCentricFLClient\n",
    "hook = sy.TorchHook(th)\n",
    "alice = DataCentricFLClient(hook, \"ws://localhost:7600\")\n",
    "bob = DataCentricFLClient(hook, \"ws://localhost:7601\")\n",
    "my_grid = sy.PrivateGridNetwork(alice,bob)\n",
    "payload = 1_000 # in Mo\n",
    "t = th.rand(1, int(payload * 10**6 / 4)) # 4 because torch float32 are encded over 4 bytes\n",
    "timer = time.time()\n",
    "# t.send(alice)\n",
    "delay = time.time() - timer\n",
    "print('bandwidth', payload/delay)"
   ]
  },
  {
   "cell_type": "code",
   "execution_count": 17,
   "metadata": {},
   "outputs": [],
   "source": [
    "import argparse\n",
    "import ast\n",
    "import threading\n",
    "import time\n",
    "\n",
    "import pyarrow\n",
    "import pyarrow.flight\n",
    "import pyarrow.csv as csv\n",
    "\n",
    "class FlightServer(pyarrow.flight.FlightServerBase):\n",
    "    def __init__(self, host=\"localhost\", location=None,\n",
    "                 tls_certificates=None, verify_client=False,\n",
    "                 root_certificates=None, auth_handler=None):\n",
    "        super(FlightServer, self).__init__(\n",
    "            location, auth_handler, tls_certificates, verify_client,\n",
    "            root_certificates)\n",
    "        self.flights = {}\n",
    "        self.host = host\n",
    "        self.tls_certificates = tls_certificates\n",
    "\n",
    "    @classmethod\n",
    "    def descriptor_to_key(self, descriptor):\n",
    "        return (descriptor.descriptor_type.value, descriptor.command,\n",
    "                tuple(descriptor.path or tuple()))\n",
    "\n",
    "    def _make_flight_info(self, key, descriptor, table):\n",
    "        if self.tls_certificates:\n",
    "            location = pyarrow.flight.Location.for_grpc_tls(\n",
    "                self.host, self.port)\n",
    "        else:\n",
    "            location = pyarrow.flight.Location.for_grpc_tcp(\n",
    "                self.host, self.port)\n",
    "        endpoints = [pyarrow.flight.FlightEndpoint(repr(key), [location]), ]\n",
    "\n",
    "        mock_sink = pyarrow.MockOutputStream()\n",
    "        stream_writer = pyarrow.RecordBatchStreamWriter(\n",
    "            mock_sink, table.schema)\n",
    "        stream_writer.write_table(table)\n",
    "        stream_writer.close()\n",
    "        data_size = mock_sink.size()\n",
    "\n",
    "        return pyarrow.flight.FlightInfo(table.schema,\n",
    "                                         descriptor, endpoints,\n",
    "                                         table.num_rows, data_size)\n",
    "\n",
    "    def list_flights(self, context, criteria):\n",
    "        for key, table in self.flights.items():\n",
    "            if key[1] is not None:\n",
    "                descriptor = \\\n",
    "                    pyarrow.flight.FlightDescriptor.for_command(key[1])\n",
    "            else:\n",
    "                descriptor = pyarrow.flight.FlightDescriptor.for_path(*key[2])\n",
    "\n",
    "            yield self._make_flight_info(key, descriptor, table)\n",
    "\n",
    "    def get_flight_info(self, context, descriptor):\n",
    "        key = FlightServer.descriptor_to_key(descriptor)\n",
    "        if key in self.flights:\n",
    "            table = self.flights[key]\n",
    "            return self._make_flight_info(key, descriptor, table)\n",
    "        raise KeyError('Flight not found.')\n",
    "\n",
    "    def do_put(self, context, descriptor, reader, writer):\n",
    "        key = FlightServer.descriptor_to_key(descriptor)\n",
    "        t = time.time()\n",
    "        print(f\"Got a new key: {key}\")\n",
    "\n",
    "        table = reader.read_all()\n",
    "        # self.flights[key] = reader.read_all()\n",
    "        dl_time = time.time() - t\n",
    "        print(\"Read all:\")\n",
    "        # print(self.flights[key])\n",
    "        print(table.to_pandas())\n",
    "        print(table.shape)\n",
    "        print(f\"Time: {dl_time}\")\n",
    "\n",
    "\n",
    "    def do_get(self, context, ticket):\n",
    "        key = ast.literal_eval(ticket.ticket.decode())\n",
    "        if key not in self.flights:\n",
    "            return None\n",
    "        return pyarrow.flight.RecordBatchStream(self.flights[key])\n",
    "\n",
    "    def list_actions(self, context):\n",
    "        return [\n",
    "            (\"clear\", \"Clear the stored flights.\"),\n",
    "            (\"shutdown\", \"Shut down this server.\"),\n",
    "        ]\n",
    "\n",
    "    def do_action(self, context, action):\n",
    "        if action.type == \"clear\":\n",
    "            raise NotImplementedError(\n",
    "                \"{} is not implemented.\".format(action.type))\n",
    "        elif action.type == \"healthcheck\":\n",
    "            pass\n",
    "        elif action.type == \"shutdown\":\n",
    "            yield pyarrow.flight.Result(pyarrow.py_buffer(b'Shutdown!'))\n",
    "            # Shut down on background thread to avoid blocking current\n",
    "            # request\n",
    "            threading.Thread(target=self._shutdown).start()\n",
    "        else:\n",
    "            raise KeyError(\"Unknown action {!r}\".format(action.type))\n",
    "\n",
    "    def _shutdown(self):\n",
    "        \"\"\"Shut down after a delay.\"\"\"\n",
    "        print(\"Server is shutting down...\")\n",
    "        time.sleep(2)\n",
    "        self.shutdown()\n"
   ]
  },
  {
   "cell_type": "code",
   "execution_count": null,
   "metadata": {},
   "outputs": [],
   "source": [
    "tls_certificates = []\n",
    "scheme = \"grpc+tcp\"\n",
    "host=\"localhost\"\n",
    "port=\"7604\"\n",
    "\n",
    "location = \"{}://{}:{}\".format(scheme, host, port)\n",
    "\n",
    "server = FlightServer(host, location)\n",
    "\n",
    "print(\"Serving on\", location)\n",
    "server.serve()"
   ]
  },
  {
   "cell_type": "code",
   "execution_count": null,
   "metadata": {},
   "outputs": [],
   "source": []
  },
  {
   "cell_type": "code",
   "execution_count": null,
   "metadata": {},
   "outputs": [],
   "source": []
  }
 ],
 "metadata": {
  "kernelspec": {
   "display_name": "Python 3.8.5 64-bit ('ariann': conda)",
   "language": "python",
   "name": "python38564bitariannconda407a02cfdfe64cc2a67215b7d5297e73"
  },
  "language_info": {
   "codemirror_mode": {
    "name": "ipython",
    "version": 3
   },
   "file_extension": ".py",
   "mimetype": "text/x-python",
   "name": "python",
   "nbconvert_exporter": "python",
   "pygments_lexer": "ipython3",
   "version": "3.8.5-final"
  }
 },
 "nbformat": 4,
 "nbformat_minor": 4
}